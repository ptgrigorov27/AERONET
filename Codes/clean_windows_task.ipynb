{
  "nbformat": 4,
  "nbformat_minor": 0,
  "metadata": {
    "colab": {
      "provenance": []
    },
    "kernelspec": {
      "name": "python3",
      "display_name": "Python 3"
    },
    "language_info": {
      "name": "python"
    }
  },
  "cells": [
    {
      "cell_type": "markdown",
      "source": [
        "**Imports relevant packages**"
      ],
      "metadata": {
        "id": "_rF3wF8pQlg-"
      }
    },
    {
      "cell_type": "code",
      "execution_count": null,
      "metadata": {
        "id": "yDSQUQVu-ThU"
      },
      "outputs": [],
      "source": [
        "import datetime                    #for time data manipulation\n",
        "import pandas as pd                #for data querying and processing\n",
        "import dateutil.parser as dparser  #for extracting dates from string\n",
        "from google.colab import files     #for downloading files from colab\n",
        "\n",
        "import warnings                    #ignores warnings that clutter the output\n",
        "warnings.filterwarnings(\"ignore\")"
      ]
    },
    {
      "cell_type": "markdown",
      "source": [
        "**Reads GSFC clean windows .tab file and renames columns**"
      ],
      "metadata": {
        "id": "dGmaxVOzQbQs"
      }
    },
    {
      "cell_type": "code",
      "source": [
        "df = pd.read_csv(r\"/content/clean_windows_GSFC.tab\",header=None,delimiter='\\t',encoding='latin-1')\n",
        "df = df.rename(columns={0: \"Instrument_Number\", 1: \"Date_Received\", 2: \"Cleaned_Windows\", 3: \"Cleaning_Notes\", 4: \"Field_Ready\", 5: \"Field_Notes\"})"
      ],
      "metadata": {
        "id": "0cdwIsC5ABcy"
      },
      "execution_count": null,
      "outputs": []
    },
    {
      "cell_type": "markdown",
      "source": [
        "**Removes certain characters in notes that negatively affect date extraction from string**"
      ],
      "metadata": {
        "id": "8lOb6epQQQIu"
      }
    },
    {
      "cell_type": "code",
      "source": [
        "for i in range(len(df)):\n",
        "  if pd.isnull(df.at[i,'Cleaning_Notes']) == False:\n",
        "    df['Cleaning_Notes'][i] = df['Cleaning_Notes'][i].replace(\"\\x0b\",\"\")\n",
        "    df['Cleaning_Notes'][i] = df['Cleaning_Notes'][i].replace(\":\",\"\")\n",
        "    df['Cleaning_Notes'][i] = df['Cleaning_Notes'][i].replace(\"-\",\"\")\n",
        "  if pd.isnull(df.at[i,'Field_Notes']) == False:\n",
        "    df['Field_Notes'][i] = df['Field_Notes'][i].replace(\"\\x0b\",\"\")\n",
        "    df['Field_Notes'][i] = df['Field_Notes'][i].replace(\":\",\"\")\n",
        "    df['Field_Notes'][i] = df['Field_Notes'][i].replace(\"-\",\"\")"
      ],
      "metadata": {
        "id": "bME5E2xofbw7"
      },
      "execution_count": null,
      "outputs": []
    },
    {
      "cell_type": "markdown",
      "source": [
        "**Replaces empty values in date columns with information extracted from notes columns**"
      ],
      "metadata": {
        "id": "HvVQNVipPwpd"
      }
    },
    {
      "cell_type": "code",
      "source": [
        "count_clean_dates_notna = len(df.loc[df['Cleaned_Windows'].notna()])\n",
        "count_clean_dates_isna = len(df.loc[df['Cleaned_Windows'].isna()])\n",
        "count_field_dates_notna = len(df.loc[df['Field_Ready'].notna()])\n",
        "count_field_dates_isna = len(df.loc[df['Field_Ready'].isna()])\n",
        "\n",
        "count_good_clean = 0\n",
        "count_good_field = 0\n",
        "count_notnan_clean = 0\n",
        "count_notnan_field = 0\n",
        "\n",
        "for i in range(len(df)):\n",
        "  if pd.isnull(df.at[i,'Cleaned_Windows']) == True and pd.isnull(df.at[i,'Cleaning_Notes']) == False:\n",
        "    count_notnan_clean = count_notnan_clean + 1\n",
        "    try:\n",
        "      df['Cleaned_Windows'][i] = dparser.parse(df['Cleaning_Notes'][i],fuzzy=True,dayfirst=True)\n",
        "      count_good_clean = count_good_clean + 1\n",
        "      df['Cleaned_Windows'][i] = datetime.datetime.strptime(df['Cleaned_Windows'][i], '%m/%d/%Y')\n",
        "    except:\n",
        "      ValueError\n",
        "\n",
        "for i in range(len(df)):\n",
        "  if pd.isnull(df.at[i,'Field_Ready']) == True and pd.isnull(df.at[i,'Field_Notes']) == False:\n",
        "    count_notnan_field = count_notnan_field + 1\n",
        "    try:\n",
        "      df['Field_Ready'][i] = dparser.parse(df['Field_Notes'][i],fuzzy=True)\n",
        "      count_good_field = count_good_field + 1\n",
        "      df['Field_Ready'][i] = datetime.datetime.strptime(df['Field_Ready'][i], '%m/%d/%Y')\n",
        "    except:\n",
        "      ValueError\n",
        "\n",
        "for i in range(len(df)):\n",
        "  df['Date_Received'][i] = datetime.datetime.strptime(df['Date_Received'][i], '%m/%d/%Y').date()\n",
        "  df['Cleaned_Windows'][i] = str(df['Cleaned_Windows'][i])[:10]\n",
        "  df['Field_Ready'][i] = str(df['Field_Ready'][i])[:10]\n",
        "  df['Cleaned_Windows'][i] = df['Cleaned_Windows'][i].replace(\"nan\",\"\")\n",
        "  df['Field_Ready'][i] = df['Field_Ready'][i].replace(\"nan\",\"\")"
      ],
      "metadata": {
        "id": "RbvXaYLfTBj-"
      },
      "execution_count": null,
      "outputs": []
    },
    {
      "cell_type": "markdown",
      "source": [
        "**Appends summary information to a text file, then downloads it**"
      ],
      "metadata": {
        "id": "N9kt-lifPtTz"
      }
    },
    {
      "cell_type": "code",
      "source": [
        "with open(r'/content/Summary.txt' ,\"w\") as myFile:\n",
        "  print(\"There were a total of\",len(df),\"records.\",file=myFile)\n",
        "  print(\"\\nOut of the\",len(df),\"records,\",count_clean_dates_notna,\"had cleaning dates and\",count_clean_dates_isna,\"did not have cleaning dates.\",file=myFile)\n",
        "  print(\"Out of the\",count_clean_dates_isna,\"records with no cleaning dates,\",count_clean_dates_isna - count_notnan_clean,\"did not have cleaning notes and\",count_notnan_clean,\"had cleaning notes.\",file=myFile)\n",
        "  print(\"Out of the\",count_notnan_clean,\"records with cleaning notes,\",count_good_clean,\"of them successfully obtained date extractions, while\",count_notnan_clean-count_good_clean,\"of them failed due to string issues.\",file=myFile)\n",
        "  print(\"\\nOut of the\",len(df),\"records,\",count_field_dates_notna,\"had field ready dates and\",count_field_dates_isna,\"did not have field ready dates.\",file=myFile)\n",
        "  print(\"Out of the\",count_field_dates_isna,\"records with no field ready dates,\",count_field_dates_isna - count_notnan_field,\"did not have field ready notes and\",count_notnan_field,\"had field ready notes.\",file=myFile)\n",
        "  print(\"Out of the\",count_notnan_field,\"records with field ready notes,\",count_good_field,\"of them successfully obtained date extractions, while\",count_notnan_field-count_good_field,\"of them failed due to string issues.\",file=myFile)\n",
        "  myFile.close()\n",
        "\n",
        "df.to_csv('new_clean_windows_GSFC.tab', sep='\\t', index=False,header=False)\n",
        "files.download(r'/content/Summary.txt')\n",
        "files.download(r'/content/new_clean_windows_GSFC.tab')"
      ],
      "metadata": {
        "colab": {
          "base_uri": "https://localhost:8080/",
          "height": 17
        },
        "id": "lJKtCn2OPrzo",
        "outputId": "1d14b2af-0a4e-4c9e-bab8-8fa06b062447"
      },
      "execution_count": null,
      "outputs": [
        {
          "output_type": "display_data",
          "data": {
            "text/plain": [
              "<IPython.core.display.Javascript object>"
            ],
            "application/javascript": [
              "\n",
              "    async function download(id, filename, size) {\n",
              "      if (!google.colab.kernel.accessAllowed) {\n",
              "        return;\n",
              "      }\n",
              "      const div = document.createElement('div');\n",
              "      const label = document.createElement('label');\n",
              "      label.textContent = `Downloading \"${filename}\": `;\n",
              "      div.appendChild(label);\n",
              "      const progress = document.createElement('progress');\n",
              "      progress.max = size;\n",
              "      div.appendChild(progress);\n",
              "      document.body.appendChild(div);\n",
              "\n",
              "      const buffers = [];\n",
              "      let downloaded = 0;\n",
              "\n",
              "      const channel = await google.colab.kernel.comms.open(id);\n",
              "      // Send a message to notify the kernel that we're ready.\n",
              "      channel.send({})\n",
              "\n",
              "      for await (const message of channel.messages) {\n",
              "        // Send a message to notify the kernel that we're ready.\n",
              "        channel.send({})\n",
              "        if (message.buffers) {\n",
              "          for (const buffer of message.buffers) {\n",
              "            buffers.push(buffer);\n",
              "            downloaded += buffer.byteLength;\n",
              "            progress.value = downloaded;\n",
              "          }\n",
              "        }\n",
              "      }\n",
              "      const blob = new Blob(buffers, {type: 'application/binary'});\n",
              "      const a = document.createElement('a');\n",
              "      a.href = window.URL.createObjectURL(blob);\n",
              "      a.download = filename;\n",
              "      div.appendChild(a);\n",
              "      a.click();\n",
              "      div.remove();\n",
              "    }\n",
              "  "
            ]
          },
          "metadata": {}
        },
        {
          "output_type": "display_data",
          "data": {
            "text/plain": [
              "<IPython.core.display.Javascript object>"
            ],
            "application/javascript": [
              "download(\"download_a9c0f7ed-c8fd-407c-bc98-85c26cc324ce\", \"Summary.txt\", 738)"
            ]
          },
          "metadata": {}
        }
      ]
    }
  ]
}